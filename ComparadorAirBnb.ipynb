{
  "nbformat": 4,
  "nbformat_minor": 0,
  "metadata": {
    "colab": {
      "name": "Bangkok",
      "provenance": [],
      "collapsed_sections": [],
      "include_colab_link": true
    },
    "kernelspec": {
      "name": "python3",
      "display_name": "Python 3"
    },
    "language_info": {
      "name": "python"
    }
  },
  "cells": [
    {
      "cell_type": "markdown",
      "metadata": {
        "id": "view-in-github",
        "colab_type": "text"
      },
      "source": [
        "<a href=\"https://colab.research.google.com/github/brunolongo92/JAVArep/blob/master/ComparadorAirBnb.ipynb\" target=\"_parent\"><img src=\"https://colab.research.google.com/assets/colab-badge.svg\" alt=\"Open In Colab\"/></a>"
      ]
    },
    {
      "cell_type": "markdown",
      "source": [
        "# Presentación"
      ],
      "metadata": {
        "id": "EhoDuQNTGzek"
      }
    },
    {
      "cell_type": "markdown",
      "source": [
        "Comisión 1\n",
        "\n",
        "Integrantes: \n",
        "\n",
        "- Longo, Bruno\n",
        "\n",
        "- Rodriguez, Abril Nazarena"
      ],
      "metadata": {
        "id": "yNteRMMQEAuk"
      }
    },
    {
      "cell_type": "markdown",
      "source": [
        "# Problema"
      ],
      "metadata": {
        "id": "0aPj_JWLD4-r"
      }
    },
    {
      "cell_type": "markdown",
      "source": [
        "El objetivo del presente trabajo es dar respuesta a las dos preguntas que nos hemos formulado. Ellas son:\n",
        "\n",
        "- ¿CUÁLES SON LOS PRECIOS DE LOS DISTINTOS TIPOS DE ALOJAMIENTO SEGÚN BARRIO?\n",
        "- ¿CUÁLES SON LOS BARRIOS MÁS POPULARES ENTRE LOS TURISTAS? (teniendo en cuenta cantidad de reviews) \n",
        "\n",
        "Para responder a las mismas, accederemos a la información brindada por airbnb acerca de la ciudad de Bangkok (Tailandia) mediante su lectura y procesamiento, utilizando distintas estructuras de datos que nos facilitarán su manejo. \n",
        "\n",
        "Para finalizar, plasmaremos los resultados obtenidos en los gráficos que consideremos adecuados con el fin de facilitar su visualización y comprensión.\n",
        "\n"
      ],
      "metadata": {
        "id": "a3d5LJ1vF_-f"
      }
    },
    {
      "cell_type": "markdown",
      "source": [
        "# Estructuras de datos"
      ],
      "metadata": {
        "id": "fDC1oLhjEjC-"
      }
    },
    {
      "cell_type": "markdown",
      "source": [
        "A lo largo del desarrollo del trabajo utilizaremos listas, diccionarios y algunas de sus combinaciones para poder cargar los datos y trabajar sobre ellos, con el fin de responder las preguntas planteadas anteriormente."
      ],
      "metadata": {
        "id": "bjC7ekRVKI_A"
      }
    },
    {
      "cell_type": "markdown",
      "source": [
        "# Carga de datos"
      ],
      "metadata": {
        "id": "e7YZb-uqLjmQ"
      }
    },
    {
      "cell_type": "markdown",
      "source": [
        "En esta sección haremos la lectura y carga de datos. Importaremos el módulo csv y a través de reader podremos leer el mismo, previamente cargado. Antes de eso, crearemos listas y diccionarios vacíos donde almacenaremos la información que vamos a necesitar más adelante, como son los barrios, los precios, las reviews, etc. \n",
        "\n",
        "Como datos generales, sabemos que hay 50 barrios con 16616 opciones de alojamiento, divididos en 4 categorias (Casa/depto entero, H.Hotel, H.Priv y H.Compartida). "
      ],
      "metadata": {
        "id": "N63LObfd1PpA"
      }
    },
    {
      "cell_type": "code",
      "source": [
        "import csv\n",
        "import matplotlib.pyplot as plt\n",
        "import seaborn as sns\n",
        "  \n",
        "precio_por_barrio = {}\n",
        "barrios = []\n",
        "precios = []\n",
        "tipo_aloj = []\n",
        "reviews = []\n",
        "barrio_y_su_prom_de_precios = {}\n",
        "barrio_precios_Hogar = {} #dicc con barrio : lista de precios de hogar\n",
        "barrio_precios_Hotel = {} #dicc con barrio : lista de precios de hotel\n",
        "barrio_precios_HabPriv = {} #dicc con barrio : lista de precios de hab privada\n",
        "barrio_precios_HabComp = {} #dicc con barrio : lista de precios de hab compartida\n",
        "\n",
        "def lector_csv(file):\n",
        "  with open(file) as File:\n",
        "    reader = csv.reader(File, delimiter=',')\n",
        "    headings = next(reader)\n",
        "    num_row = 0\n",
        "    for row in reader:\n",
        "      barrios.append(row[5].title()) # row 5 es nombre de barrio\n",
        "      tipo_aloj.append(row[8]) # row 8 es tipo de aloj\n",
        "      precios.append(row[9]) # row 9 es precio\n",
        "      reviews.append(row[11]) # row 11 son las reviews\n",
        "      num_row += 1\n",
        "      if(num_row == 16617): #cantidad de rows que procesamos\n",
        "        break;\n",
        "\n",
        "lector_csv(\"listingsBangkok.csv\")"
      ],
      "metadata": {
        "id": "cS5myO_LL4li"
      },
      "execution_count": 30,
      "outputs": []
    },
    {
      "cell_type": "markdown",
      "source": [
        "# Funciones generales"
      ],
      "metadata": {
        "id": "X1vn4iRzMh7Q"
      }
    },
    {
      "cell_type": "code",
      "source": [
        "def promedio(lista):\n",
        "    '''Se le pasa una lista, devuelve el valor promedio \n",
        "    de la lista'''    \n",
        "    return round(sum(lista)/len(lista),1)\n",
        "\n",
        "def promedio_dicc(dicc):\n",
        "    '''Se le pasa un diccionario, devuelve el valor promedio \n",
        "    de la lista formada con sus valores'''    \n",
        "    lista = []\n",
        "    for x,y in dicc.items():\n",
        "      lista.append(promedio(y))\n",
        "    return round(sum(lista)/len(lista),1)"
      ],
      "metadata": {
        "id": "w2lgPX7CMmdy"
      },
      "execution_count": 31,
      "outputs": []
    },
    {
      "cell_type": "markdown",
      "source": [
        "# Primera Pregunta"
      ],
      "metadata": {
        "id": "4wSy0x43LXAU"
      }
    },
    {
      "cell_type": "code",
      "source": [
        "for i in range (len(barrios)): # creamos el diccionario que contiene str(barrio):lista(int(precios)) \n",
        "  if barrios[i] in precio_por_barrio.keys():\n",
        "    precio_por_barrio[barrios[i]].append(int(precios[i]))\n",
        "  else:\n",
        "    precio_por_barrio[barrios[i].title()]=[int(precios[i])]\n",
        "\n",
        "for i in range (len(barrios)): # creamos 4 diccionarios y cada uno contiene barrio : lista de precios según alojamiento\n",
        "  if tipo_aloj[i] == \"Entire home/apt\" and barrios[i] in barrio_precios_Hogar.keys():\n",
        "    barrio_precios_Hogar[barrios[i]].append(int(precios[i]))\n",
        "  elif tipo_aloj[i] == \"Entire home/apt\" and barrios[i] not in barrio_precios_Hogar.keys():\n",
        "    barrio_precios_Hogar[barrios[i]]=[int(precios[i])]\n",
        "  elif tipo_aloj[i] == \"Private room\" and barrios[i] in barrio_precios_HabPriv.keys():\n",
        "    barrio_precios_HabPriv[barrios[i]].append(int(precios[i]))\n",
        "  elif tipo_aloj[i] == \"Private room\" and barrios[i] not in barrio_precios_HabPriv.keys():  \n",
        "    barrio_precios_HabPriv[barrios[i]]=[int(precios[i])]\n",
        "  elif tipo_aloj[i] == \"Hotel room\" and barrios[i] in barrio_precios_Hotel.keys():\n",
        "    barrio_precios_Hotel[barrios[i]].append(int(precios[i]))\n",
        "  elif tipo_aloj[i] == \"Hotel room\" and barrios[i] not in barrio_precios_Hotel.keys():\n",
        "    barrio_precios_Hotel[barrios[i]]=[int(precios[i])]\n",
        "  elif tipo_aloj[i] == \"Shared room\" and barrios[i] in barrio_precios_HabComp.keys():\n",
        "    barrio_precios_HabComp[barrios[i]].append(int(precios[i]))\n",
        "  elif tipo_aloj[i] == \"Shared room\" and barrios[i] not in barrio_precios_HabComp.keys():\n",
        "    barrio_precios_HabComp[barrios[i]]=[int(precios[i])]\n",
        "\n",
        "print(\"LISTA DE BARRIO Y EL PROMEDIO DE SUS PRECIOS, ESCRIBA LOS NOMBRES DE LOS QUE DESEE COMPARAR\")\n",
        "for x,y in precio_por_barrio.items(): #crea dicc con barrio : promedio de precios\n",
        "  barrio_y_su_prom_de_precios[x] = promedio(y)\n",
        "  print (x,promedio(y))\n",
        "print(\"LISTA DE BARRIO Y EL PROMEDIO DE SUS PRECIOS, ESCRIBA LOS NOMBRES DE LOS QUE DESEE COMPARAR\")\n",
        "\n",
        "def buscador(barrio):\n",
        "    '''ingresa nombre barrio y devuelve una lista con los valores de alquiler de la sig forma:\n",
        "    barrio -> [$promedio, $promedio_casa, $promedio_hotel, $promedio_priv, $promedio_comp]'''   \n",
        "    lista = []\n",
        "    etiquetas = [\"$General\",\"$Casas\",\"$Hoteles\",\"$Hab.Priv\",\"$Hab.Comp\"]\n",
        "    lista.append(promedio(precio_por_barrio[barrio]))\n",
        "    lista.append(promedio(barrio_precios_Hogar[barrio]))\n",
        "    if barrio not in barrio_precios_Hotel.keys():\n",
        "      lista.append(0)\n",
        "    else:\n",
        "      lista.append(promedio(barrio_precios_Hotel[barrio]))\n",
        "    lista.append(promedio(barrio_precios_HabPriv[barrio]))\n",
        "    if barrio not in barrio_precios_HabComp.keys():\n",
        "      lista.append(0)\n",
        "    else:\n",
        "      lista.append(promedio(barrio_precios_HabComp[barrio]))\n",
        "    fig, ax = plt.subplots()\n",
        "    for i, v in enumerate(lista):\n",
        "      ax.text(i - .33, i, str(v), color='black', fontsize=13)\n",
        "    plot = (plt.bar(etiquetas, lista) , plt.xticks(rotation = 60), plt.title(barrio,fontsize=20),plt.ylabel('Precio',fontsize=15))\n",
        "    return plt.show()\n",
        "\n",
        "def comparador(barrio1, barrio2):\n",
        "  buscador(barrio1.title())\n",
        "  buscador(barrio2.title())\n",
        "  return\n",
        "\n",
        "comparador(input(\"Ingrese primer barrio \"), input(\"Ingrese segundo barrio \"))"
      ],
      "metadata": {
        "id": "XQWfLiOUNqH7",
        "colab": {
          "base_uri": "https://localhost:8080/",
          "height": 1000
        },
        "outputId": "1f738c13-7e2f-4b64-ae5b-4cb82dd549ab"
      },
      "execution_count": 32,
      "outputs": [
        {
          "name": "stdout",
          "output_type": "stream",
          "text": [
            "LISTA DE BARRIO Y EL PROMEDIO DE SUS PRECIOS, ESCRIBA LOS NOMBRES DE LOS QUE DESEE COMPARAR\n",
            "Lat Krabang 3750.3\n",
            "Thawi Watthana 1783.3\n",
            "Bang Na 1598.9\n",
            "Bang Sue 1542.7\n",
            "Lak Si 1171.4\n",
            "Taling Chan 6645.6\n",
            "Don Mueang 1212.8\n",
            "Thung Khru 1621.0\n",
            "Bang Khun Thain 3244.6\n",
            "Yan Na Wa 4604.0\n",
            "Nong Chok 3186.4\n",
            "Pra Wet 2034.5\n",
            "Ratchathewi 1763.2\n",
            "Bang Kapi 1386.7\n",
            "Din Daeng 2477.0\n",
            "Rat Burana 2330.2\n",
            "Bang Rak 2457.3\n",
            "Saphan Sung 2309.9\n",
            "Sathon 3313.7\n",
            "Min Buri 1337.7\n",
            "Bang Phlat 1290.6\n",
            "Phaya Thai 1690.4\n",
            "Chatu Chak 1789.1\n",
            "Khlong San 2536.1\n",
            "Khlong Toei 2545.6\n",
            "Sai Mai 1614.8\n",
            "Vadhana 3427.4\n",
            "Bangkok Yai 1863.7\n",
            "Huai Khwang 2043.6\n",
            "Phasi Charoen 1344.9\n",
            "Phra Khanong 1803.5\n",
            "Parthum Wan 3320.9\n",
            "Bang Kho Laen 1837.5\n",
            "Phra Nakhon 1560.8\n",
            "Bang Khen 1290.2\n",
            "Dusit 2720.4\n",
            "Samphanthawong 2254.9\n",
            "Suanluang 1591.2\n",
            "Bueng Kum 2267.3\n",
            "Wang Thong Lang 1474.0\n",
            "Khan Na Yao 2004.7\n",
            "Chom Thong 2182.9\n",
            "Lat Phrao 2564.0\n",
            "Thon Buri 2586.6\n",
            "Khlong Sam Wa 2216.9\n",
            "Bang Khae 4162.0\n",
            "Bangkok Noi 2052.7\n",
            "Pom Prap Sattru Phai 1783.3\n",
            "Nong Khaem 1696.8\n",
            "Bang Bon 1485.5\n",
            "LISTA DE BARRIO Y EL PROMEDIO DE SUS PRECIOS, ESCRIBA LOS NOMBRES DE LOS QUE DESEE COMPARAR\n",
            "Ingrese primer barrio thon buri\n",
            "Ingrese segundo barrio bang bon\n"
          ]
        },
        {
          "output_type": "display_data",
          "data": {
            "text/plain": [
              "<Figure size 432x288 with 1 Axes>"
            ],
            "image/png": "[encoded data removed]"
          },
          "metadata": {
            "needs_background": "light"
          }
        },
        {
          "output_type": "display_data",
          "data": {
            "text/plain": [
              "<Figure size 432x288 with 1 Axes>"
            ],
            "image/png": "[encoded data removed]"
          },
          "metadata": {
            "needs_background": "light"
          }
        }
      ]
    },
    {
      "cell_type": "markdown",
      "source": [
        "# Segunda pregunta"
      ],
      "metadata": {
        "id": "0tnl21b5Ozu0"
      }
    },
    {
      "cell_type": "code",
      "source": [
        "#2° PREGUNTA: BARRIO MÁS POPULAR ENTRE LOS TURISTAS (BASÁNDONOS EN CANTIDAD DE REVIEWS)\n",
        "\n",
        "reviews_por_barrio = {}\n",
        "total_reviews_por_barrio = {}\n",
        "listatotalreviews = []\n",
        "\n",
        "''' Se recorre cada fila \"barrio\". Si el nombre del barrio ya existe como clave, se agrega la review a la lista que se encuentra como valor.\n",
        "De lo contrario, se agrega como clave el nombre \n",
        "del barrio y como valor, una lista con las reviews. '''\n",
        "\n",
        "#diccionario = {\"nombre barrio\" = lista de reviews}\n",
        "\n",
        "for i in range (len(barrios)):\n",
        "  if barrios[i] in reviews_por_barrio.keys():\n",
        "    reviews_por_barrio[barrios[i]].append(int(reviews[i]))\n",
        "  else:\n",
        "    reviews_por_barrio[barrios[i]]=[int(reviews[i])]\n",
        "\n",
        "\n",
        "''' Se recorre el anterior diccionario, y se crea uno nuevo, en donde las claves son las mismas (los distintos barrios),\n",
        "pero los valores son enteros que corresponden a la suma de todas las reviews que había en cada lista. '''\n",
        "\n",
        "for clave,valor in reviews_por_barrio.items():\n",
        "  total_reviews_por_barrio[clave] = sum(valor)      \n",
        "\n",
        "# pprint.pprint(total_reviews_por_barrio)\n",
        "\n",
        "''' Se recorren todos los valores (los cuales son enteros), y se agregan a una lista '''\n",
        "def MaximoValor(diccionario):\n",
        "  '''Esta función recibe como parámetro un diccionario, y agrega sus valores a una lista'''\n",
        "  listaconclaves = []\n",
        "  for valor in total_reviews_por_barrio.values():\n",
        "    listaconclaves.append(valor)\n",
        "  return listaconclaves\n",
        "\n",
        "\n",
        "max(listatotalreviews)\n"
      ],
      "metadata": {
        "id": "5Y0yWgTRO5wZ",
        "colab": {
          "base_uri": "https://localhost:8080/",
          "height": 200
        },
        "outputId": "71cc1ce0-ca28-44cf-b500-969c849f3201"
      },
      "execution_count": 33,
      "outputs": [
        {
          "output_type": "error",
          "ename": "ValueError",
          "evalue": "ignored",
          "traceback": [
            "\u001b[0;31m---------------------------------------------------------------------------\u001b[0m",
            "\u001b[0;31mValueError\u001b[0m                                Traceback (most recent call last)",
            "\u001b[0;32m<ipython-input-33-e8487bd0761a>\u001b[0m in \u001b[0;36m<module>\u001b[0;34m()\u001b[0m\n\u001b[1;32m     35\u001b[0m \u001b[0;34m\u001b[0m\u001b[0m\n\u001b[1;32m     36\u001b[0m \u001b[0;34m\u001b[0m\u001b[0m\n\u001b[0;32m---> 37\u001b[0;31m \u001b[0mmax\u001b[0m\u001b[0;34m(\u001b[0m\u001b[0mlistatotalreviews\u001b[0m\u001b[0;34m)\u001b[0m\u001b[0;34m\u001b[0m\u001b[0;34m\u001b[0m\u001b[0m\n\u001b[0m",
            "\u001b[0;31mValueError\u001b[0m: max() arg is an empty sequence"
          ]
        }
      ]
    },
    {
      "cell_type": "code",
      "source": [
        "import matplotlib as plt\n",
        "import seaborn as sns\n",
        "sns.set()\n",
        "\n",
        "plt.figure(figsize = (15,8))\n",
        "plt.bar()"
      ],
      "metadata": {
        "id": "CiFDGN8T25Va"
      },
      "execution_count": null,
      "outputs": []
    },
    {
      "cell_type": "markdown",
      "source": [
        "# Sección nueva"
      ],
      "metadata": {
        "id": "MpmQd12FLdCk"
      }
    },
    {
      "cell_type": "code",
      "source": [
        "import matplotlib.pyplot as plt\n",
        "import seaborn as sns\n",
        "sns.set()\n",
        "\n",
        "plt.figure(figsize = (15,10))\n",
        "plt.pie(total_reviews_por_barrio.values(), labels = total_reviews_por_barrio.keys())"
      ],
      "metadata": {
        "id": "LuCK8kXv7q76"
      },
      "execution_count": null,
      "outputs": []
    }
  ]
}